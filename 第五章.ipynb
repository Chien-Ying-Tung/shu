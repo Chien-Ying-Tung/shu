{
 "cells": [
  {
   "cell_type": "code",
   "execution_count": null,
   "metadata": {},
   "outputs": [],
   "source": [
    "#關係運算子(假設score是85)\n",
    "# <     (小於)      score<80  False\n",
    "# <= (小於或等於) score<=80  False \n",
    "# >     (大於)      score>80  Ture\n",
    "# >= (大於或等於) score>=80  True\n",
    "# ==    (等於)     score==80  False\n",
    "# !=   (不等於)     score!=80  Ture "
   ]
  },
  {
   "cell_type": "code",
   "execution_count": 3,
   "metadata": {},
   "outputs": [
    {
     "name": "stdout",
     "output_type": "stream",
     "text": [
      "x=70\n"
     ]
    }
   ],
   "source": [
    "x=65                  #關係運算子是用兩個等號(==)來表示，單一等號用在指定的意思\n",
    "if x>60:\n",
    "    x=x+5\n",
    "print(\"x=%d\"%(x))"
   ]
  },
  {
   "cell_type": "code",
   "execution_count": 5,
   "metadata": {},
   "outputs": [
    {
     "name": "stdout",
     "output_type": "stream",
     "text": [
      "請輸入分子:0\n",
      "請輸入分母:1\n",
      "0 / 1 = 0.0\n",
      "Over\n"
     ]
    }
   ],
   "source": [
    "numerator=eval(input(\"請輸入分子:\"))\n",
    "denominator=eval(input(\"請輸入分母:\"))\n",
    "if denominator !=0:\n",
    "    ans=numerator/denominator\n",
    "    print(numerator,\"/\",denominator,\"=\",ans)#當if敘述的條件運算視為真時,所要處理的敘述要內縮並加以對齊\n",
    "print(\"Over\")"
   ]
  },
  {
   "cell_type": "code",
   "execution_count": 2,
   "metadata": {},
   "outputs": [
    {
     "name": "stdout",
     "output_type": "stream",
     "text": [
      "Please input a number:0\n",
      "0 is 5's multiple\n",
      "Over\n"
     ]
    }
   ],
   "source": [
    "number=eval(input(\"Please input a number:\"))\n",
    "if number%5==0:                         #注意:要用兩個等號(==)\n",
    "    print(number,\"is 5's multiple\")\n",
    "print(\"Over\")"
   ]
  },
  {
   "cell_type": "code",
   "execution_count": 6,
   "metadata": {},
   "outputs": [
    {
     "name": "stdout",
     "output_type": "stream",
     "text": [
      "請輸入分子:125\n",
      "請輸入分母:0\n",
      "分母不為0\n",
      "Over\n"
     ]
    }
   ],
   "source": [
    "numerator=eval(input(\"請輸入分子:\"))\n",
    "denominator=eval(input(\"請輸入分母:\"))\n",
    "if denominator !=0:\n",
    "    ans=numerator/denominator\n",
    "    print(numerator,\"/\",denominator,\"=\",ans)#當if敘述的條件運算視為真時,所要處理的敘述要內縮並加以對齊\n",
    "else:\n",
    "    print(\"分母不為0\")\n",
    "print(\"Over\")"
   ]
  },
  {
   "cell_type": "code",
   "execution_count": 1,
   "metadata": {},
   "outputs": [
    {
     "name": "stdout",
     "output_type": "stream",
     "text": [
      "Pleaase input a number:88\n",
      "88 is an even number.\n",
      "Over\n"
     ]
    }
   ],
   "source": [
    "num=eval(input(\"Pleaase input a number:\"))\n",
    "if num%2==0:\n",
    "    print(num,\"is an even number.\")\n",
    "else:\n",
    "    print(num,\"is a odd number.\")\n",
    "print(\"Over\")"
   ]
  },
  {
   "cell_type": "code",
   "execution_count": 5,
   "metadata": {},
   "outputs": [
    {
     "name": "stdout",
     "output_type": "stream",
     "text": [
      "Please input a number:20\n",
      "20 is greater than 0\n",
      "Over\n"
     ]
    }
   ],
   "source": [
    "number=eval(input(\"Please input a number:\"))\n",
    "if number>0:\n",
    "    print(number,\"is greater than 0\")\n",
    "else:\n",
    "    if number<0:\n",
    "        print(number,\"is less than 0\")\n",
    "    else:\n",
    "        print(number,\"is equal to 0\")\n",
    "print(\"Over\")"
   ]
  },
  {
   "cell_type": "code",
   "execution_count": 6,
   "metadata": {},
   "outputs": [
    {
     "name": "stdout",
     "output_type": "stream",
     "text": [
      "15 is positive\n",
      "Over\n"
     ]
    }
   ],
   "source": [
    "number=15\n",
    "if number>0:\n",
    "    print(number,\"is positive\")\n",
    "else:\n",
    "    if number<0:\n",
    "        print(number,\"is negative\")\n",
    "    else:\n",
    "        print(number,\"is zero\")\n",
    "print(\"Over\")"
   ]
  },
  {
   "cell_type": "code",
   "execution_count": 9,
   "metadata": {},
   "outputs": [
    {
     "name": "stdout",
     "output_type": "stream",
     "text": [
      "Please input a number:2\n",
      "2 is greater than 0\n",
      "Over\n"
     ]
    }
   ],
   "source": [
    "number=eval(input(\"Please input a number:\"))\n",
    "if number>0:\n",
    "    print(number,\"is greater than 0\")\n",
    "elif number<0:\n",
    "        print(number,\"is less than 0\")\n",
    "else:\n",
    "        print(number,\"is equal to 0\")\n",
    "print(\"Over\")"
   ]
  },
  {
   "cell_type": "code",
   "execution_count": 1,
   "metadata": {},
   "outputs": [
    {
     "name": "stdout",
     "output_type": "stream",
     "text": [
      "Please input your weight(kilogram):200\n",
      "Please input your height(centimeter):190\n",
      "Your BMI is 55.40\n",
      "Obese\n"
     ]
    }
   ],
   "source": [
    "weight=eval(input(\"Please input your weight(kilogram):\"))\n",
    "height=eval(input(\"Please input your height(centimeter):\"))\n",
    "heightInMeters=height/100\n",
    "\n",
    "bmi=weight/(heightInMeters*heightInMeters)\n",
    "print(\"Your BMI is\",format(bmi,\".2f\"))\n",
    "\n",
    "if bmi<18.5:\n",
    "    print(\"Underweight\")\n",
    "elif bmi<25:\n",
    "    print(\"Normal\")\n",
    "elif bmi<30:\n",
    "    print(\"Overweight\")\n",
    "else:\n",
    "    print(\"Obese\")"
   ]
  },
  {
   "cell_type": "code",
   "execution_count": 2,
   "metadata": {},
   "outputs": [
    {
     "name": "stdout",
     "output_type": "stream",
     "text": [
      "Please enter which year?2020\n",
      "2020 is leap year\n"
     ]
    }
   ],
   "source": [
    "year=eval(input(\"Please enter which year?\"))\n",
    "if year%400==0 or (year%4==0and year%100!=0):\n",
    "    print(year,\"is leap year\")\n",
    "else:\n",
    "    print(year,\"is not year\")"
   ]
  },
  {
   "cell_type": "code",
   "execution_count": 3,
   "metadata": {},
   "outputs": [
    {
     "name": "stdout",
     "output_type": "stream",
     "text": [
      "Please enter which year?2020\n",
      "2020 is leap year\n"
     ]
    }
   ],
   "source": [
    "year=eval(input(\"Please enter which year?\"))\n",
    "cond1=year%400==0\n",
    "cond2=year%4==0\n",
    "cond3=year%100!=0\n",
    "if cond1 or(cond2 and cond3):\n",
    "    print(year,\"is leap year\")\n",
    "else:\n",
    "    print(year,\"is not year\")"
   ]
  },
  {
   "cell_type": "code",
   "execution_count": 4,
   "metadata": {},
   "outputs": [
    {
     "name": "stdout",
     "output_type": "stream",
     "text": [
      "Please enter a number:2\n",
      "2\n"
     ]
    }
   ],
   "source": [
    "#絕對值\n",
    "number=eval(input(\"Please enter a number:\"))\n",
    "if number>=0:\n",
    "    print(number)\n",
    "else:\n",
    "    print(-number)"
   ]
  },
  {
   "cell_type": "code",
   "execution_count": 5,
   "metadata": {},
   "outputs": [
    {
     "name": "stdout",
     "output_type": "stream",
     "text": [
      "Enter your score:75\n",
      "you pass\n"
     ]
    }
   ],
   "source": [
    "#判斷及格分數\n",
    "score=eval(input('Enter your score:'))\n",
    "if score>=60:\n",
    "    print(\"you pass\")\n",
    "else:\n",
    "    print(\"you fail\")"
   ]
  },
  {
   "cell_type": "code",
   "execution_count": 11,
   "metadata": {},
   "outputs": [
    {
     "name": "stdout",
     "output_type": "stream",
     "text": [
      "Enter number1:92\n",
      "Enter number2:13\n",
      "Enter an arithmetic operator(+,-,*,/):-\n",
      "invalid operator\n",
      "92.0000 - 13.0000=79.0000\n"
     ]
    }
   ],
   "source": [
    "#算數四則運算\n",
    "number1=eval(input('Enter number1:'))\n",
    "number2=eval(input('Enter number2:'))\n",
    "operator=input('Enter an arithmetic operator(+,-,*,/):')\n",
    "result=0\n",
    "flag=0\n",
    "if operator=='+':\n",
    "    result=number1+number2\n",
    "if operator=='-':\n",
    "    result=number1-number2\n",
    "elif operator=='*':\n",
    "    result=number1*number2\n",
    "elif operator=='/':\n",
    "    result=number1/number2\n",
    "else:\n",
    "    flag=1\n",
    "print('invalid operator')\n",
    "if flag!=1:\n",
    "    print('%.4f %c %.4f=%.4f'%(number1,operator,number2,result))"
   ]
  },
  {
   "cell_type": "code",
   "execution_count": 1,
   "metadata": {},
   "outputs": [
    {
     "name": "stdout",
     "output_type": "stream",
     "text": [
      "請輸入年齡:70\n",
      "您的年齡屬於老年\n"
     ]
    }
   ],
   "source": [
    "age=eval(input('請輸入年齡:'))\n",
    "state=''\n",
    "if age<6:\n",
    "    state='童年'\n",
    "elif age <=17:\n",
    "    state='少年'\n",
    "elif age <=40:\n",
    "    state='青年'\n",
    "elif age <=65:\n",
    "    state='中年'\n",
    "else:\n",
    "    state='老年'\n",
    "print('您的年齡屬於%s'%state)"
   ]
  },
  {
   "cell_type": "code",
   "execution_count": 2,
   "metadata": {},
   "outputs": [
    {
     "name": "stdout",
     "output_type": "stream",
     "text": [
      "Enter your score:30\n",
      "Your score is 30\n"
     ]
    }
   ],
   "source": [
    "score=eval(input('Enter your score:'))\n",
    "if score>=60:\n",
    "    score=score+10\n",
    "print('Your score is %d'%(score))"
   ]
  },
  {
   "cell_type": "code",
   "execution_count": 3,
   "metadata": {},
   "outputs": [
    {
     "name": "stdout",
     "output_type": "stream",
     "text": [
      "Enter your score:70\n",
      "Your score is 80\n"
     ]
    }
   ],
   "source": [
    "score=eval(input('Enter your score:'))\n",
    "if score>=60:\n",
    "    score=score+10\n",
    "print('Your score is %d'%(score))"
   ]
  },
  {
   "cell_type": "code",
   "execution_count": 4,
   "metadata": {},
   "outputs": [
    {
     "name": "stdout",
     "output_type": "stream",
     "text": [
      "Enter your score:68\n",
      "Your score is 78\n"
     ]
    }
   ],
   "source": [
    "score=eval(input('Enter your score:'))\n",
    "if score>=60:\n",
    "    score=score+10\n",
    "else:\n",
    "    score=score+8\n",
    "print('Your score is %d'%(score))"
   ]
  },
  {
   "cell_type": "code",
   "execution_count": 5,
   "metadata": {},
   "outputs": [
    {
     "name": "stdout",
     "output_type": "stream",
     "text": [
      "Enter your score:53\n",
      "Your score is 61\n"
     ]
    }
   ],
   "source": [
    "score=eval(input('Enter your score:'))\n",
    "if score>=60:\n",
    "    score=score+10\n",
    "else:\n",
    "    score=score+8\n",
    "print('Your score is %d'%(score))"
   ]
  }
 ],
 "metadata": {
  "kernelspec": {
   "display_name": "Python 3",
   "language": "python",
   "name": "python3"
  },
  "language_info": {
   "codemirror_mode": {
    "name": "ipython",
    "version": 3
   },
   "file_extension": ".py",
   "mimetype": "text/x-python",
   "name": "python",
   "nbconvert_exporter": "python",
   "pygments_lexer": "ipython3",
   "version": "3.8.3"
  }
 },
 "nbformat": 4,
 "nbformat_minor": 4
}
