{
 "cells": [
  {
   "cell_type": "code",
   "execution_count": 1,
   "metadata": {},
   "outputs": [
    {
     "name": "stdout",
     "output_type": "stream",
     "text": [
      "mile 96 is kilometer\n",
      "153.60000000000002\n"
     ]
    }
   ],
   "source": [
    "#Convert miles to Kilometers\n",
    "print(\"mile 96 is kilometer\")\n",
    "print(96*1.6)"
   ]
  },
  {
   "cell_type": "code",
   "execution_count": 3,
   "metadata": {},
   "outputs": [
    {
     "name": "stdout",
     "output_type": "stream",
     "text": [
      "80F is C degree\n",
      "37.77777777777778\n"
     ]
    }
   ],
   "source": [
    "#Convert F to C\n",
    "print(\"80F is C degree\")\n",
    "print(5/9*(100-32))"
   ]
  },
  {
   "cell_type": "code",
   "execution_count": 5,
   "metadata": {},
   "outputs": [
    {
     "name": "stdout",
     "output_type": "stream",
     "text": [
      "mile 90 is kilometer\n",
      "2745.0\n"
     ]
    }
   ],
   "source": [
    "#Convert miles to kilometers\n",
    "print(\"mile 90 is kilometer\")\n",
    "print(90*30.5)"
   ]
  },
  {
   "cell_type": "code",
   "execution_count": 6,
   "metadata": {},
   "outputs": [
    {
     "name": "stdout",
     "output_type": "stream",
     "text": [
      "Helo,python\n"
     ]
    }
   ],
   "source": [
    "print(\"Helo,python\")"
   ]
  },
  {
   "cell_type": "code",
   "execution_count": 7,
   "metadata": {},
   "outputs": [
    {
     "ename": "NameError",
     "evalue": "name 'Hello' is not defined",
     "output_type": "error",
     "traceback": [
      "\u001b[1;31m---------------------------------------------------------------------------\u001b[0m",
      "\u001b[1;31mNameError\u001b[0m                                 Traceback (most recent call last)",
      "\u001b[1;32m<ipython-input-7-42d485254650>\u001b[0m in \u001b[0;36m<module>\u001b[1;34m\u001b[0m\n\u001b[1;32m----> 1\u001b[1;33m \u001b[0mprint\u001b[0m\u001b[1;33m(\u001b[0m\u001b[0mHello\u001b[0m\u001b[1;33m,\u001b[0m\u001b[0mpython\u001b[0m\u001b[1;33m)\u001b[0m\u001b[1;33m\u001b[0m\u001b[1;33m\u001b[0m\u001b[0m\n\u001b[0m",
      "\u001b[1;31mNameError\u001b[0m: name 'Hello' is not defined"
     ]
    }
   ],
   "source": [
    "print(Hello,python)"
   ]
  },
  {
   "cell_type": "code",
   "execution_count": 9,
   "metadata": {},
   "outputs": [
    {
     "name": "stdout",
     "output_type": "stream",
     "text": [
      "Hello,python!\n"
     ]
    }
   ],
   "source": [
    "   print(\"Hello,python!\")"
   ]
  },
  {
   "cell_type": "code",
   "execution_count": 1,
   "metadata": {},
   "outputs": [
    {
     "ename": "NameError",
     "evalue": "name 'PRINT' is not defined",
     "output_type": "error",
     "traceback": [
      "\u001b[1;31m---------------------------------------------------------------------------\u001b[0m",
      "\u001b[1;31mNameError\u001b[0m                                 Traceback (most recent call last)",
      "\u001b[1;32m<ipython-input-1-d7e4d02119d9>\u001b[0m in \u001b[0;36m<module>\u001b[1;34m\u001b[0m\n\u001b[1;32m----> 1\u001b[1;33m \u001b[0mPRINT\u001b[0m\u001b[1;33m(\u001b[0m\u001b[1;34m\"Hello,python\"\u001b[0m\u001b[1;33m)\u001b[0m\u001b[1;33m\u001b[0m\u001b[1;33m\u001b[0m\u001b[0m\n\u001b[0m",
      "\u001b[1;31mNameError\u001b[0m: name 'PRINT' is not defined"
     ]
    }
   ],
   "source": [
    "PRINT(\"Hello,python\")"
   ]
  },
  {
   "cell_type": "code",
   "execution_count": 2,
   "metadata": {},
   "outputs": [
    {
     "name": "stdout",
     "output_type": "stream",
     "text": [
      "Hello,python\n"
     ]
    }
   ],
   "source": [
    " print(\"Hello,python\")"
   ]
  },
  {
   "cell_type": "code",
   "execution_count": 3,
   "metadata": {},
   "outputs": [
    {
     "ename": "SyntaxError",
     "evalue": "EOL while scanning string literal (<ipython-input-3-d9ea4a355b25>, line 1)",
     "output_type": "error",
     "traceback": [
      "\u001b[1;36m  File \u001b[1;32m\"<ipython-input-3-d9ea4a355b25>\"\u001b[1;36m, line \u001b[1;32m1\u001b[0m\n\u001b[1;33m    print(\"Hello,python')\u001b[0m\n\u001b[1;37m                         ^\u001b[0m\n\u001b[1;31mSyntaxError\u001b[0m\u001b[1;31m:\u001b[0m EOL while scanning string literal\n"
     ]
    }
   ],
   "source": [
    "print(\"Hello,python')"
   ]
  },
  {
   "cell_type": "code",
   "execution_count": 4,
   "metadata": {},
   "outputs": [
    {
     "name": "stdout",
     "output_type": "stream",
     "text": [
      "Hello,python\n"
     ]
    }
   ],
   "source": [
    "  print('Hello,python');"
   ]
  },
  {
   "cell_type": "code",
   "execution_count": 13,
   "metadata": {},
   "outputs": [
    {
     "name": "stdout",
     "output_type": "stream",
     "text": [
      "Fahrenheit 212 is Ceisius degree\n",
      "100.0\n"
     ]
    }
   ],
   "source": [
    "#Convert Fahrenheit to Ceisius\n",
    "print('Fahrenheit 212 is Ceisius degree')\n",
    "print(5/9*(212-32))"
   ]
  },
  {
   "cell_type": "code",
   "execution_count": 16,
   "metadata": {},
   "outputs": [
    {
     "ename": "SyntaxError",
     "evalue": "EOL while scanning string literal (<ipython-input-16-3b10114fb09c>, line 1)",
     "output_type": "error",
     "traceback": [
      "\u001b[1;36m  File \u001b[1;32m\"<ipython-input-16-3b10114fb09c>\"\u001b[1;36m, line \u001b[1;32m1\u001b[0m\n\u001b[1;33m    print('Learning Python now!\")\u001b[0m\n\u001b[1;37m                                 ^\u001b[0m\n\u001b[1;31mSyntaxError\u001b[0m\u001b[1;31m:\u001b[0m EOL while scanning string literal\n"
     ]
    }
   ],
   "source": [
    "print('Learning Python now!\")"
   ]
  },
  {
   "cell_type": "code",
   "execution_count": 17,
   "metadata": {},
   "outputs": [
    {
     "ename": "NameError",
     "evalue": "name 'printf' is not defined",
     "output_type": "error",
     "traceback": [
      "\u001b[1;31m---------------------------------------------------------------------------\u001b[0m",
      "\u001b[1;31mNameError\u001b[0m                                 Traceback (most recent call last)",
      "\u001b[1;32m<ipython-input-17-b2a0192aa3a4>\u001b[0m in \u001b[0;36m<module>\u001b[1;34m\u001b[0m\n\u001b[1;32m----> 1\u001b[1;33m \u001b[0mprintf\u001b[0m\u001b[1;33m(\u001b[0m\u001b[1;34m'Python is fun'\u001b[0m\u001b[1;33m)\u001b[0m\u001b[1;33m\u001b[0m\u001b[1;33m\u001b[0m\u001b[0m\n\u001b[0m",
      "\u001b[1;31mNameError\u001b[0m: name 'printf' is not defined"
     ]
    }
   ],
   "source": [
    "printf('Python is fun')"
   ]
  },
  {
   "cell_type": "code",
   "execution_count": 18,
   "metadata": {},
   "outputs": [
    {
     "ename": "NameError",
     "evalue": "name 'write' is not defined",
     "output_type": "error",
     "traceback": [
      "\u001b[1;31m---------------------------------------------------------------------------\u001b[0m",
      "\u001b[1;31mNameError\u001b[0m                                 Traceback (most recent call last)",
      "\u001b[1;32m<ipython-input-18-3696e94357e2>\u001b[0m in \u001b[0;36m<module>\u001b[1;34m\u001b[0m\n\u001b[1;32m----> 1\u001b[1;33m \u001b[0mwrite\u001b[0m\u001b[1;33m(\u001b[0m\u001b[1;34m'Python is a good gramming language'\u001b[0m\u001b[1;33m)\u001b[0m\u001b[1;33m\u001b[0m\u001b[1;33m\u001b[0m\u001b[0m\n\u001b[0m",
      "\u001b[1;31mNameError\u001b[0m: name 'write' is not defined"
     ]
    }
   ],
   "source": [
    "write('Python is a good gramming language')"
   ]
  },
  {
   "cell_type": "raw",
   "metadata": {},
   "source": []
  },
  {
   "cell_type": "code",
   "execution_count": 19,
   "metadata": {
    "scrolled": true
   },
   "outputs": [
    {
     "ename": "SyntaxError",
     "evalue": "EOF while scanning triple-quoted string literal (<ipython-input-19-2868e0fc3bfb>, line 5)",
     "output_type": "error",
     "traceback": [
      "\u001b[1;36m  File \u001b[1;32m\"<ipython-input-19-2868e0fc3bfb>\"\u001b[1;36m, line \u001b[1;32m5\u001b[0m\n\u001b[1;33m    printIn(Learning python now!)\u001b[0m\n\u001b[1;37m                                 \n^\u001b[0m\n\u001b[1;31mSyntaxError\u001b[0m\u001b[1;31m:\u001b[0m EOF while scanning triple-quoted string literal\n"
     ]
    }
   ],
   "source": [
    "'''\n",
    "我的第一個python程市\n",
    "\"\n",
    "printf('Python is fun!')\n",
    "printIn(Learning python now!)"
   ]
  },
  {
   "cell_type": "code",
   "execution_count": 20,
   "metadata": {},
   "outputs": [
    {
     "name": "stdout",
     "output_type": "stream",
     "text": [
      "12345\n"
     ]
    }
   ],
   "source": [
    "print(12345)"
   ]
  },
  {
   "cell_type": "code",
   "execution_count": 21,
   "metadata": {},
   "outputs": [
    {
     "name": "stdout",
     "output_type": "stream",
     "text": [
      "123.456\n"
     ]
    }
   ],
   "source": [
    "#浮點數\n",
    "print(123.456)"
   ]
  },
  {
   "cell_type": "code",
   "execution_count": 22,
   "metadata": {},
   "outputs": [
    {
     "name": "stdout",
     "output_type": "stream",
     "text": [
      "Learning python now!\n"
     ]
    }
   ],
   "source": [
    "#字串\n",
    "print(\"Learning python now!\")"
   ]
  },
  {
   "cell_type": "code",
   "execution_count": 24,
   "metadata": {},
   "outputs": [
    {
     "name": "stdout",
     "output_type": "stream",
     "text": [
      "Learning python now!\n"
     ]
    }
   ],
   "source": [
    "#字串\n",
    "print('Learning python now!')"
   ]
  },
  {
   "cell_type": "code",
   "execution_count": 25,
   "metadata": {},
   "outputs": [
    {
     "ename": "SyntaxError",
     "evalue": "invalid syntax (<ipython-input-25-0c8f9102448d>, line 2)",
     "output_type": "error",
     "traceback": [
      "\u001b[1;36m  File \u001b[1;32m\"<ipython-input-25-0c8f9102448d>\"\u001b[1;36m, line \u001b[1;32m2\u001b[0m\n\u001b[1;33m    print('Let's go')\u001b[0m\n\u001b[1;37m               ^\u001b[0m\n\u001b[1;31mSyntaxError\u001b[0m\u001b[1;31m:\u001b[0m invalid syntax\n"
     ]
    }
   ],
   "source": [
    "print('python is fun')\n",
    "print('Let's go')"
   ]
  },
  {
   "cell_type": "code",
   "execution_count": 27,
   "metadata": {},
   "outputs": [
    {
     "name": "stdout",
     "output_type": "stream",
     "text": [
      "python is fun\n",
      "Let's go\n"
     ]
    }
   ],
   "source": [
    "print('python is fun')\n",
    "print('Let\\'s go')"
   ]
  },
  {
   "cell_type": "code",
   "execution_count": 28,
   "metadata": {
    "scrolled": true
   },
   "outputs": [
    {
     "ename": "SyntaxError",
     "evalue": "unexpected character after line continuation character (<ipython-input-28-b7017e713ba8>, line 1)",
     "output_type": "error",
     "traceback": [
      "\u001b[1;36m  File \u001b[1;32m\"<ipython-input-28-b7017e713ba8>\"\u001b[1;36m, line \u001b[1;32m1\u001b[0m\n\u001b[1;33m    \\n is skip a line\u001b[0m\n\u001b[1;37m                     ^\u001b[0m\n\u001b[1;31mSyntaxError\u001b[0m\u001b[1;31m:\u001b[0m unexpected character after line continuation character\n"
     ]
    }
   ],
   "source": [
    "\\n is skip a line"
   ]
  },
  {
   "cell_type": "code",
   "execution_count": 29,
   "metadata": {},
   "outputs": [
    {
     "name": "stdout",
     "output_type": "stream",
     "text": [
      "\\n is skip a line\n"
     ]
    }
   ],
   "source": [
    "print('\\\\n is skip a line')"
   ]
  },
  {
   "cell_type": "code",
   "execution_count": 30,
   "metadata": {},
   "outputs": [
    {
     "name": "stdout",
     "output_type": "stream",
     "text": [
      "\n",
      " is skip a line\n"
     ]
    }
   ],
   "source": [
    "print('\\n is skip a line')"
   ]
  },
  {
   "cell_type": "code",
   "execution_count": 32,
   "metadata": {},
   "outputs": [],
   "source": [
    "#\\n 換行\n",
    "#\\t 跳八格\n",
    "#\\\\ 輸出反斜線\n",
    "#\\\" 輸出反斜線\n",
    "#\\' 輸出單引號"
   ]
  },
  {
   "cell_type": "code",
   "execution_count": 33,
   "metadata": {},
   "outputs": [
    {
     "name": "stdout",
     "output_type": "stream",
     "text": [
      "Learning python now!\n",
      "Python is fun\n"
     ]
    }
   ],
   "source": [
    "print('Learning python now!\\nPython is fun')"
   ]
  },
  {
   "cell_type": "code",
   "execution_count": 34,
   "metadata": {},
   "outputs": [
    {
     "name": "stdout",
     "output_type": "stream",
     "text": [
      "Learning python now!\n",
      "python is fun\n"
     ]
    }
   ],
   "source": [
    "print('Learning python now!')\n",
    "print('python is fun')"
   ]
  },
  {
   "cell_type": "code",
   "execution_count": 40,
   "metadata": {},
   "outputs": [
    {
     "name": "stdout",
     "output_type": "stream",
     "text": [
      "|Hello,\tworld|\n"
     ]
    }
   ],
   "source": [
    "print('|Hello,\\tworld|')"
   ]
  },
  {
   "cell_type": "code",
   "execution_count": 38,
   "metadata": {},
   "outputs": [
    {
     "name": "stdout",
     "output_type": "stream",
     "text": [
      "|\tHello,world|\n"
     ]
    }
   ],
   "source": [
    "print('|\\tHello,world|')"
   ]
  },
  {
   "cell_type": "code",
   "execution_count": 41,
   "metadata": {},
   "outputs": [
    {
     "name": "stdout",
     "output_type": "stream",
     "text": [
      "\\n is a skip line\n"
     ]
    }
   ],
   "source": [
    "print('\\\\n is a skip line')"
   ]
  },
  {
   "cell_type": "code",
   "execution_count": 42,
   "metadata": {},
   "outputs": [
    {
     "name": "stdout",
     "output_type": "stream",
     "text": [
      "\"Hello,everyone\"\n"
     ]
    }
   ],
   "source": [
    "print('\\\"Hello,everyone\\\"')"
   ]
  },
  {
   "cell_type": "code",
   "execution_count": 1,
   "metadata": {},
   "outputs": [
    {
     "name": "stdout",
     "output_type": "stream",
     "text": [
      "Radius= 12\n"
     ]
    }
   ],
   "source": [
    "print('Radius=',12)"
   ]
  },
  {
   "cell_type": "code",
   "execution_count": 2,
   "metadata": {},
   "outputs": [
    {
     "name": "stdout",
     "output_type": "stream",
     "text": [
      "Radius=12+1\n"
     ]
    }
   ],
   "source": [
    "print('Radius=12+1')"
   ]
  },
  {
   "cell_type": "code",
   "execution_count": 4,
   "metadata": {},
   "outputs": [
    {
     "name": "stdout",
     "output_type": "stream",
     "text": [
      "Radius= 13\n"
     ]
    }
   ],
   "source": [
    "print('Radius=',12+1)"
   ]
  },
  {
   "cell_type": "code",
   "execution_count": 5,
   "metadata": {},
   "outputs": [
    {
     "name": "stdout",
     "output_type": "stream",
     "text": [
      "Hello,\n"
     ]
    }
   ],
   "source": [
    "print('Hello,')"
   ]
  },
  {
   "cell_type": "code",
   "execution_count": 6,
   "metadata": {},
   "outputs": [
    {
     "name": "stdout",
     "output_type": "stream",
     "text": [
      "Hello,\n",
      "world\n"
     ]
    }
   ],
   "source": [
    "print('Hello,')\n",
    "print('world')"
   ]
  },
  {
   "cell_type": "code",
   "execution_count": 7,
   "metadata": {},
   "outputs": [
    {
     "name": "stdout",
     "output_type": "stream",
     "text": [
      "Hello,world\n"
     ]
    }
   ],
   "source": [
    "print('Hello,',end='')\n",
    "print('world')"
   ]
  },
  {
   "cell_type": "code",
   "execution_count": 8,
   "metadata": {},
   "outputs": [
    {
     "name": "stdout",
     "output_type": "stream",
     "text": [
      "Hello,world\n"
     ]
    }
   ],
   "source": [
    "print('Hello,''world')"
   ]
  },
  {
   "cell_type": "code",
   "execution_count": 9,
   "metadata": {},
   "outputs": [
    {
     "name": "stdout",
     "output_type": "stream",
     "text": [
      "Hello,***"
     ]
    }
   ],
   "source": [
    "print('Hello,',end='***')"
   ]
  },
  {
   "cell_type": "code",
   "execution_count": 11,
   "metadata": {},
   "outputs": [
    {
     "name": "stdout",
     "output_type": "stream",
     "text": [
      "Hello,***world\n"
     ]
    }
   ],
   "source": [
    "print('Hello,',end='***')\n",
    "print('world')"
   ]
  },
  {
   "cell_type": "code",
   "execution_count": 12,
   "metadata": {},
   "outputs": [
    {
     "name": "stdout",
     "output_type": "stream",
     "text": [
      "***Hello,world***\n"
     ]
    }
   ],
   "source": [
    "print('***Hello,',end='')\n",
    "print('world***')"
   ]
  },
  {
   "cell_type": "code",
   "execution_count": 13,
   "metadata": {},
   "outputs": [
    {
     "name": "stdout",
     "output_type": "stream",
     "text": [
      "Hello,Python"
     ]
    }
   ],
   "source": [
    "print('Hello,',end='Python')"
   ]
  },
  {
   "cell_type": "code",
   "execution_count": 15,
   "metadata": {},
   "outputs": [
    {
     "name": "stdout",
     "output_type": "stream",
     "text": [
      "Excellent!!!\n"
     ]
    }
   ],
   "source": [
    "print('Excellent!!!')"
   ]
  },
  {
   "cell_type": "code",
   "execution_count": 16,
   "metadata": {},
   "outputs": [
    {
     "name": "stdout",
     "output_type": "stream",
     "text": [
      "***Hello,world***"
     ]
    }
   ],
   "source": [
    "print('***Hello,world',end='***')"
   ]
  },
  {
   "cell_type": "code",
   "execution_count": 17,
   "metadata": {},
   "outputs": [
    {
     "name": "stdout",
     "output_type": "stream",
     "text": [
      "Hello, ***\n",
      "world\n"
     ]
    }
   ],
   "source": [
    "print('Hello,',\"***\")\n",
    "print('world')"
   ]
  },
  {
   "cell_type": "code",
   "execution_count": 18,
   "metadata": {},
   "outputs": [
    {
     "name": "stdout",
     "output_type": "stream",
     "text": [
      "     100\n"
     ]
    }
   ],
   "source": [
    "print(format(100,'8d'))"
   ]
  },
  {
   "cell_type": "code",
   "execution_count": 19,
   "metadata": {},
   "outputs": [
    {
     "name": "stdout",
     "output_type": "stream",
     "text": [
      "10000000\n"
     ]
    }
   ],
   "source": [
    "print(format(10000000,'3d'))"
   ]
  },
  {
   "cell_type": "code",
   "execution_count": 20,
   "metadata": {},
   "outputs": [],
   "source": [
    "#d-整數\n",
    "#f-浮點數\n",
    "#s-字串\n",
    "#每一指定器前面的數值表示其欄位寬"
   ]
  },
  {
   "cell_type": "code",
   "execution_count": 94,
   "metadata": {},
   "outputs": [],
   "source": [
    "#\"10.2f\">>>欄位寬10,準確度為2(用在浮點數)\n",
    "#\"10.2e\">>>欄位寬10,準確度為2(用在浮點數且以科學記號加以格式化)\n",
    "#\"8d\">>>欄位寬8及十進位\n",
    "#\"8x\">>> ****   十六\n",
    "#\"8o\">>> ****   八\n",
    "#\"8b\">>> ****   二"
   ]
  },
  {
   "cell_type": "code",
   "execution_count": 70,
   "metadata": {},
   "outputs": [
    {
     "name": "stdout",
     "output_type": "stream",
     "text": [
      "      10\n"
     ]
    }
   ],
   "source": [
    "print(format(10,'8d'))"
   ]
  },
  {
   "cell_type": "code",
   "execution_count": 71,
   "metadata": {},
   "outputs": [
    {
     "name": "stdout",
     "output_type": "stream",
     "text": [
      "      20\n"
     ]
    }
   ],
   "source": [
    "print(format(20,'8d'))"
   ]
  },
  {
   "cell_type": "code",
   "execution_count": 72,
   "metadata": {},
   "outputs": [
    {
     "name": "stdout",
     "output_type": "stream",
     "text": [
      "      30\n"
     ]
    }
   ],
   "source": [
    "print(format(30,'8d'))"
   ]
  },
  {
   "cell_type": "code",
   "execution_count": 73,
   "metadata": {},
   "outputs": [
    {
     "name": "stdout",
     "output_type": "stream",
     "text": [
      "     100\n"
     ]
    }
   ],
   "source": [
    "print(format(100,'8d'))"
   ]
  },
  {
   "cell_type": "code",
   "execution_count": 74,
   "metadata": {},
   "outputs": [
    {
     "name": "stdout",
     "output_type": "stream",
     "text": [
      "      10\n"
     ]
    }
   ],
   "source": [
    "print(format(16,'8x'))"
   ]
  },
  {
   "cell_type": "code",
   "execution_count": 75,
   "metadata": {},
   "outputs": [
    {
     "name": "stdout",
     "output_type": "stream",
     "text": [
      "      20\n"
     ]
    }
   ],
   "source": [
    "print(format(32,'8x'))"
   ]
  },
  {
   "cell_type": "code",
   "execution_count": 76,
   "metadata": {},
   "outputs": [
    {
     "name": "stdout",
     "output_type": "stream",
     "text": [
      "      30\n"
     ]
    }
   ],
   "source": [
    "print(format(48,'8x'))"
   ]
  },
  {
   "cell_type": "code",
   "execution_count": 77,
   "metadata": {},
   "outputs": [
    {
     "name": "stdout",
     "output_type": "stream",
     "text": [
      "      64\n"
     ]
    }
   ],
   "source": [
    "print(format(100,'8x'))"
   ]
  },
  {
   "cell_type": "code",
   "execution_count": 75,
   "metadata": {},
   "outputs": [
    {
     "name": "stdout",
     "output_type": "stream",
     "text": [
      "      20\n"
     ]
    }
   ],
   "source": [
    "print(format(32,'8x'))"
   ]
  },
  {
   "cell_type": "code",
   "execution_count": 78,
   "metadata": {},
   "outputs": [
    {
     "name": "stdout",
     "output_type": "stream",
     "text": [
      "      10\n"
     ]
    }
   ],
   "source": [
    "print(format(8,'8o'))"
   ]
  },
  {
   "cell_type": "code",
   "execution_count": 79,
   "metadata": {},
   "outputs": [
    {
     "name": "stdout",
     "output_type": "stream",
     "text": [
      "      20\n"
     ]
    }
   ],
   "source": [
    "print(format(16,'8o'))"
   ]
  },
  {
   "cell_type": "code",
   "execution_count": 80,
   "metadata": {},
   "outputs": [
    {
     "name": "stdout",
     "output_type": "stream",
     "text": [
      "      30\n"
     ]
    }
   ],
   "source": [
    "print(format(24,'8o'))"
   ]
  },
  {
   "cell_type": "code",
   "execution_count": 84,
   "metadata": {},
   "outputs": [
    {
     "name": "stdout",
     "output_type": "stream",
     "text": [
      "      70\n"
     ]
    }
   ],
   "source": [
    "print(format(56,'8o'))"
   ]
  },
  {
   "cell_type": "code",
   "execution_count": 85,
   "metadata": {},
   "outputs": [
    {
     "name": "stdout",
     "output_type": "stream",
     "text": [
      "     100\n"
     ]
    }
   ],
   "source": [
    "print(format(64,'8o'))"
   ]
  },
  {
   "cell_type": "code",
   "execution_count": 86,
   "metadata": {},
   "outputs": [
    {
     "name": "stdout",
     "output_type": "stream",
     "text": [
      "     110\n"
     ]
    }
   ],
   "source": [
    "print(format(72,'8o'))"
   ]
  },
  {
   "cell_type": "code",
   "execution_count": 87,
   "metadata": {},
   "outputs": [
    {
     "name": "stdout",
     "output_type": "stream",
     "text": [
      "     120\n"
     ]
    }
   ],
   "source": [
    "print(format(80,'8o'))"
   ]
  },
  {
   "cell_type": "code",
   "execution_count": 88,
   "metadata": {},
   "outputs": [
    {
     "name": "stdout",
     "output_type": "stream",
     "text": [
      "     130\n"
     ]
    }
   ],
   "source": [
    "print(format(88,'8o'))"
   ]
  },
  {
   "cell_type": "code",
   "execution_count": 89,
   "metadata": {},
   "outputs": [
    {
     "name": "stdout",
     "output_type": "stream",
     "text": [
      "     140\n"
     ]
    }
   ],
   "source": [
    "print(format(96,'8o'))"
   ]
  },
  {
   "cell_type": "code",
   "execution_count": 90,
   "metadata": {},
   "outputs": [
    {
     "name": "stdout",
     "output_type": "stream",
     "text": [
      "      10\n"
     ]
    }
   ],
   "source": [
    "print(format(2,'8b'))"
   ]
  },
  {
   "cell_type": "code",
   "execution_count": 91,
   "metadata": {},
   "outputs": [
    {
     "name": "stdout",
     "output_type": "stream",
     "text": [
      "     100\n"
     ]
    }
   ],
   "source": [
    "print(format(4,'8b'))"
   ]
  },
  {
   "cell_type": "code",
   "execution_count": 92,
   "metadata": {},
   "outputs": [
    {
     "name": "stdout",
     "output_type": "stream",
     "text": [
      "     110\n"
     ]
    }
   ],
   "source": [
    "print(format(6,'8b'))"
   ]
  },
  {
   "cell_type": "code",
   "execution_count": 93,
   "metadata": {},
   "outputs": [
    {
     "name": "stdout",
     "output_type": "stream",
     "text": [
      "    1000\n"
     ]
    }
   ],
   "source": [
    "print(format(8,'8b'))"
   ]
  },
  {
   "cell_type": "code",
   "execution_count": 95,
   "metadata": {},
   "outputs": [
    {
     "name": "stdout",
     "output_type": "stream",
     "text": [
      "  123.46\n"
     ]
    }
   ],
   "source": [
    "print(format(123.456,'8.2f'))"
   ]
  },
  {
   "cell_type": "code",
   "execution_count": 96,
   "metadata": {},
   "outputs": [
    {
     "name": "stdout",
     "output_type": "stream",
     "text": [
      "12345.68%\n"
     ]
    }
   ],
   "source": [
    "print(format(123.456789,'.2%'))"
   ]
  },
  {
   "cell_type": "code",
   "execution_count": 97,
   "metadata": {},
   "outputs": [
    {
     "name": "stdout",
     "output_type": "stream",
     "text": [
      "12345.679%\n"
     ]
    }
   ],
   "source": [
    "print(format(123.456789,'.3%'))"
   ]
  },
  {
   "cell_type": "code",
   "execution_count": 98,
   "metadata": {},
   "outputs": [
    {
     "name": "stdout",
     "output_type": "stream",
     "text": [
      "12345.6789%\n"
     ]
    }
   ],
   "source": [
    "print(format(123.456789123456789,'.4%'))"
   ]
  },
  {
   "cell_type": "code",
   "execution_count": 99,
   "metadata": {},
   "outputs": [
    {
     "name": "stdout",
     "output_type": "stream",
     "text": [
      "12345.67891%\n"
     ]
    }
   ],
   "source": [
    "print(format(123.456789123456789,'.5%'))"
   ]
  },
  {
   "cell_type": "code",
   "execution_count": 100,
   "metadata": {},
   "outputs": [
    {
     "name": "stdout",
     "output_type": "stream",
     "text": [
      "12345.678912%\n"
     ]
    }
   ],
   "source": [
    "print(format(123.456789123456789,'.6%'))"
   ]
  },
  {
   "cell_type": "code",
   "execution_count": 102,
   "metadata": {},
   "outputs": [
    {
     "data": {
      "text/plain": [
       "'123.46'"
      ]
     },
     "execution_count": 102,
     "metadata": {},
     "output_type": "execute_result"
    }
   ],
   "source": [
    "format(123.456789,'.2f')"
   ]
  },
  {
   "cell_type": "code",
   "execution_count": 103,
   "metadata": {},
   "outputs": [
    {
     "data": {
      "text/plain": [
       "'123.457'"
      ]
     },
     "execution_count": 103,
     "metadata": {},
     "output_type": "execute_result"
    }
   ],
   "source": [
    "format(123.456789,'.3f')"
   ]
  },
  {
   "cell_type": "code",
   "execution_count": 105,
   "metadata": {},
   "outputs": [
    {
     "data": {
      "text/plain": [
       "223.457"
      ]
     },
     "execution_count": 105,
     "metadata": {},
     "output_type": "execute_result"
    }
   ],
   "source": [
    "float(format(123.456789,'.3f'))+100"
   ]
  },
  {
   "cell_type": "code",
   "execution_count": 106,
   "metadata": {},
   "outputs": [
    {
     "data": {
      "text/plain": [
       "123.46"
      ]
     },
     "execution_count": 106,
     "metadata": {},
     "output_type": "execute_result"
    }
   ],
   "source": [
    "round(123.456789,2)"
   ]
  },
  {
   "cell_type": "code",
   "execution_count": 107,
   "metadata": {},
   "outputs": [
    {
     "name": "stdout",
     "output_type": "stream",
     "text": [
      "Python is fun  \n"
     ]
    }
   ],
   "source": [
    "print(format('Python is fun','15s'))"
   ]
  },
  {
   "cell_type": "code",
   "execution_count": 108,
   "metadata": {},
   "outputs": [
    {
     "name": "stdout",
     "output_type": "stream",
     "text": [
      "  Python is fun\n"
     ]
    }
   ],
   "source": [
    "print(format('Python is fun','>15s'))"
   ]
  },
  {
   "cell_type": "code",
   "execution_count": 112,
   "metadata": {},
   "outputs": [
    {
     "name": "stdout",
     "output_type": "stream",
     "text": [
      "     12345\n"
     ]
    }
   ],
   "source": [
    "print(format(12345,\"10d\"))"
   ]
  },
  {
   "cell_type": "code",
   "execution_count": 113,
   "metadata": {},
   "outputs": [
    {
     "name": "stdout",
     "output_type": "stream",
     "text": [
      "12345     \n"
     ]
    }
   ],
   "source": [
    "print(format(12345,\"<10d\"))"
   ]
  },
  {
   "cell_type": "code",
   "execution_count": 115,
   "metadata": {},
   "outputs": [
    {
     "name": "stdout",
     "output_type": "stream",
     "text": [
      "   12345   \n"
     ]
    }
   ],
   "source": [
    "print(format(12345,\"^11d\"))\n",
    "#表示給予11個欄位寬，應將12345置中輸出"
   ]
  },
  {
   "cell_type": "code",
   "execution_count": 116,
   "metadata": {},
   "outputs": [
    {
     "name": "stdout",
     "output_type": "stream",
     "text": [
      "12345 12 1234567\n",
      "12 1234567 12345\n",
      "1234567 12345 12\n"
     ]
    }
   ],
   "source": [
    "print(12345,12,1234567)\n",
    "print(12,1234567,12345)\n",
    "print(1234567,12345,12)"
   ]
  },
  {
   "cell_type": "code",
   "execution_count": 120,
   "metadata": {},
   "outputs": [
    {
     "name": "stdout",
     "output_type": "stream",
     "text": [
      "     12345\n",
      "        12\n",
      "   1234567\n",
      "        12\n",
      "   1234567\n",
      "     12345\n",
      "   1234567\n",
      "     12345\n",
      "        12\n"
     ]
    }
   ],
   "source": [
    "print(format(12345,'10d'))\n",
    "print(format(12,'10d'))\n",
    "print(format(1234567,'10d'))\n",
    "print(format(12,'10d'))\n",
    "print(format(1234567,'10d'))\n",
    "print(format(12345,'10d'))\n",
    "print(format(1234567,'10d'))\n",
    "print(format(12345,'10d'))\n",
    "print(format(12,'10d'))"
   ]
  },
  {
   "cell_type": "code",
   "execution_count": 122,
   "metadata": {},
   "outputs": [
    {
     "name": "stdout",
     "output_type": "stream",
     "text": [
      "     12345        12   1234567\n",
      "        12   1234567     12345\n",
      "   1234567     12345        12\n"
     ]
    }
   ],
   "source": [
    "print(format(12345,'10d'),end='')\n",
    "print(format(12,'10d'),end='')\n",
    "print(format(1234567,'10d'))\n",
    "print(format(12,'10d'),end='')\n",
    "print(format(1234567,'10d'),end='')\n",
    "print(format(12345,'10d'))\n",
    "print(format(1234567,'10d'),end='')\n",
    "print(format(12345,'10d'),end='')\n",
    "print(format(12,'10d'))"
   ]
  },
  {
   "cell_type": "code",
   "execution_count": 123,
   "metadata": {},
   "outputs": [],
   "source": [
    "#print('%格式指定器'%(項目))"
   ]
  },
  {
   "cell_type": "code",
   "execution_count": 124,
   "metadata": {},
   "outputs": [
    {
     "name": "stdout",
     "output_type": "stream",
     "text": [
      "     12345\n"
     ]
    }
   ],
   "source": [
    "print('%10d'%(12345))"
   ]
  },
  {
   "cell_type": "code",
   "execution_count": 126,
   "metadata": {},
   "outputs": [
    {
     "name": "stdout",
     "output_type": "stream",
     "text": [
      "|     12345|\n"
     ]
    }
   ],
   "source": [
    "print('|%10d|'%(12345))"
   ]
  },
  {
   "cell_type": "code",
   "execution_count": 129,
   "metadata": {},
   "outputs": [
    {
     "name": "stdout",
     "output_type": "stream",
     "text": [
      "|12345|\n"
     ]
    }
   ],
   "source": [
    "print('|%3d|'%(12345))"
   ]
  },
  {
   "cell_type": "code",
   "execution_count": 130,
   "metadata": {},
   "outputs": [
    {
     "name": "stdout",
     "output_type": "stream",
     "text": [
      "12345     \n"
     ]
    }
   ],
   "source": [
    "print('%-10d'%(12345))"
   ]
  },
  {
   "cell_type": "code",
   "execution_count": 131,
   "metadata": {},
   "outputs": [
    {
     "name": "stdout",
     "output_type": "stream",
     "text": [
      "|12345     |\n"
     ]
    }
   ],
   "source": [
    "print('|%-10d|'%(12345))"
   ]
  },
  {
   "cell_type": "code",
   "execution_count": 132,
   "metadata": {},
   "outputs": [
    {
     "name": "stdout",
     "output_type": "stream",
     "text": [
      "|  123.46|\n",
      "|    1.23|\n",
      "| 1234.56|\n",
      "|   12.35|\n",
      "|12345.60|\n"
     ]
    }
   ],
   "source": [
    "print('|%8.2f|'%(123.456))\n",
    "#A:|  123.56|\n",
    "print('|%8.2f|'%(1.23456))\n",
    "#A:|    1.23|\n",
    "print('|%8.2f|'%(1234.56))\n",
    "#A:| 1234.56|\n",
    "print('|%8.2f|'%(12.3456))\n",
    "#A:|   12.35|\n",
    "print('|%8.2f|'%(12345.6))\n",
    "#A:|12345.60|"
   ]
  },
  {
   "cell_type": "code",
   "execution_count": 134,
   "metadata": {},
   "outputs": [
    {
     "name": "stdout",
     "output_type": "stream",
     "text": [
      "|          Learning Python now!|\n",
      "|Learning Python now!          |\n",
      "|Learning Python now!|\n"
     ]
    }
   ],
   "source": [
    "print('|%30s|'%('Learning Python now!'))#預設向右靠齊\n",
    "print('|%-30s|'%('Learning Python now!'))#向左靠齊\n",
    "print('|%15s|'%('Learning Python now!'))#欄位寬15"
   ]
  },
  {
   "cell_type": "code",
   "execution_count": 136,
   "metadata": {},
   "outputs": [
    {
     "name": "stdout",
     "output_type": "stream",
     "text": [
      "100% orange juice\n"
     ]
    }
   ],
   "source": [
    "print('%d%% orange juice'%(100))\n",
    "#其中的 % % 會轉譯為 %"
   ]
  },
  {
   "cell_type": "code",
   "execution_count": 137,
   "metadata": {
    "scrolled": false
   },
   "outputs": [
    {
     "name": "stdout",
     "output_type": "stream",
     "text": [
      "123\n",
      "123,12345\n",
      "  123,  12345\n",
      "x=  123,y=  12345\n",
      "x=  123,y=  12345\n",
      "a= 123.46,b=   123.46\n",
      "kiwi     ,Banana \n",
      "     kiwi,   Banana\n",
      "  kiwi   , Banana  \n"
     ]
    }
   ],
   "source": [
    "print('{0}'.format(123))\n",
    "print('{0},{1}'.format(123,12345))\n",
    "print('{0:5d},{1:7d}'.format(123,12345))\n",
    "print('x={0:5d},y={1:7d}'.format(123,12345))\n",
    "print('x={p:5d},y={q:7d}'.format(p=123,q=12345))\n",
    "print('a={0:7.2f},b={1:9.2f}'.format(123.456,123.456))\n",
    "print('{p:9s},{q:7s}'.format(p='kiwi',q='Banana'))\n",
    "print('{p:>9s},{q:>9s}'.format(p='kiwi',q='Banana'))\n",
    "print('{p:^9s},{q:^9s}'.format(p='kiwi',q='Banana'))"
   ]
  },
  {
   "cell_type": "code",
   "execution_count": 1,
   "metadata": {},
   "outputs": [
    {
     "name": "stdout",
     "output_type": "stream",
     "text": [
      "|     12345        12   1234567|\n",
      "|        12   1234567       123|\n",
      "|   1234567       123     12345|\n"
     ]
    }
   ],
   "source": [
    "print(\"|%10d %9d %9d|\" %(12345,12,1234567))\n",
    "print(\"|%10d %9d %9d|\" %(12,1234567,123))\n",
    "print(\"|%10d %9d %9d|\" %(1234567,123,12345))"
   ]
  },
  {
   "cell_type": "code",
   "execution_count": 10,
   "metadata": {},
   "outputs": [
    {
     "name": "stdout",
     "output_type": "stream",
     "text": [
      "|Department|\n",
      "        |of|\n",
      "  |Computer|\n",
      "   |Science|\n"
     ]
    }
   ],
   "source": [
    "print(format(\"|Department|\",\">12s\"))\n",
    "print(format(\"|of|\",\">12s\"))\n",
    "print(format(\"|Computer|\",\">12s\"))\n",
    "print(format(\"|Science|\",\">12s\"))"
   ]
  },
  {
   "cell_type": "code",
   "execution_count": 25,
   "metadata": {},
   "outputs": [
    {
     "name": "stdout",
     "output_type": "stream",
     "text": [
      "price:$  356.09\n"
     ]
    }
   ],
   "source": [
    "print(\"price:$%8.2f\"%(356.08977))"
   ]
  },
  {
   "cell_type": "code",
   "execution_count": 28,
   "metadata": {},
   "outputs": [
    {
     "name": "stdout",
     "output_type": "stream",
     "text": [
      "|    123.46| |    345.79|\n"
     ]
    }
   ],
   "source": [
    "print(\"|%10.2f| |%10.2f|\"%(123.456,345.789))"
   ]
  },
  {
   "cell_type": "code",
   "execution_count": 30,
   "metadata": {},
   "outputs": [
    {
     "name": "stdout",
     "output_type": "stream",
     "text": [
      "|    123.46| |  100|\n"
     ]
    }
   ],
   "source": [
    "print(\"|%10.2f| |%5d|\"%(123.456,100))"
   ]
  },
  {
   "cell_type": "code",
   "execution_count": 31,
   "metadata": {},
   "outputs": [
    {
     "name": "stdout",
     "output_type": "stream",
     "text": [
      "radius=5,area=  78.54\n"
     ]
    }
   ],
   "source": [
    "print(\"radius=%d,area=%7.2f\"%(5,5*5*3.14159))"
   ]
  },
  {
   "cell_type": "code",
   "execution_count": 33,
   "metadata": {},
   "outputs": [
    {
     "name": "stdout",
     "output_type": "stream",
     "text": [
      "Radius:|  5|,Area:|     78.54|\n"
     ]
    }
   ],
   "source": [
    "print(\"Radius:|{a:3d}|,Area:|{b:10.2f}|\".format(a=5,b=5*5*3.14159))"
   ]
  },
  {
   "cell_type": "code",
   "execution_count": 37,
   "metadata": {},
   "outputs": [
    {
     "name": "stdout",
     "output_type": "stream",
     "text": [
      "    123.46\n",
      "  12345.68\n"
     ]
    }
   ],
   "source": [
    "print(format(123.456,\"10.2f\"))\n",
    "print(format(12345.678,\"10.2f\"))"
   ]
  },
  {
   "cell_type": "code",
   "execution_count": 39,
   "metadata": {},
   "outputs": [
    {
     "name": "stdout",
     "output_type": "stream",
     "text": [
      "i=100\n",
      "i=100,j=200\n"
     ]
    }
   ],
   "source": [
    "print(\"i=%d\"%(100))\n",
    "print(\"i=%d,j=%d\"%(100,200))"
   ]
  },
  {
   "cell_type": "code",
   "execution_count": 1,
   "metadata": {},
   "outputs": [
    {
     "name": "stdout",
     "output_type": "stream",
     "text": [
      "3.25 degree C in F\\is 9.05\n",
      "94.50 degree F in C\\is 34.72\n"
     ]
    }
   ],
   "source": [
    "print(\"%.2f degree C in F\\is %.2f\"%(3.25,3.25*1.8+3.2))\n",
    "print(\"%.2f degree F in C\\is %.2f\"%(94.5,(94.5-32)/1.8))"
   ]
  },
  {
   "cell_type": "code",
   "execution_count": 1,
   "metadata": {},
   "outputs": [
    {
     "name": "stdout",
     "output_type": "stream",
     "text": [
      "Month          Amount    \n",
      "1              43400.20  \n",
      "2              45430.28  \n",
      "3              48030.48  \n",
      "4              51112.96  \n",
      "5              52857.20  \n"
     ]
    }
   ],
   "source": [
    "print(\"%-15s%-10s\"%(\"Month\",\"Amount\"))\n",
    "print(\"%-15s%-10.2f\"%(1,43400.2))\n",
    "print(\"%-15s%-10.2f\"%(2,45430.28))\n",
    "print(\"%-15s%-10.2f\"%(3,48030.48))\n",
    "print(\"%-15s%-10.2f\"%(4,51112.96))\n",
    "print(\"%-15s%-10.2f\"%(5,52857.2))"
   ]
  }
 ],
 "metadata": {
  "kernelspec": {
   "display_name": "Python 3",
   "language": "python",
   "name": "python3"
  },
  "language_info": {
   "codemirror_mode": {
    "name": "ipython",
    "version": 3
   },
   "file_extension": ".py",
   "mimetype": "text/x-python",
   "name": "python",
   "nbconvert_exporter": "python",
   "pygments_lexer": "ipython3",
   "version": "3.8.3"
  }
 },
 "nbformat": 4,
 "nbformat_minor": 4
}
